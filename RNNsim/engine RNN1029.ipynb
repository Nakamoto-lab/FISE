{
 "cells": [
  {
   "cell_type": "code",
   "execution_count": 1,
   "metadata": {},
   "outputs": [
    {
     "name": "stderr",
     "output_type": "stream",
     "text": [
      "Using TensorFlow backend.\n"
     ]
    }
   ],
   "source": [
    "import numpy as np\n",
    "import matplotlib.pyplot as plt\n",
    "import pandas\n",
    "import math\n",
    "from keras.models import Sequential\n",
    "from keras.layers import Dense\n",
    "from keras.layers import LSTM\n",
    "from keras.layers import Flatten\n",
    "from sklearn.preprocessing import MinMaxScaler\n",
    "from sklearn.metrics import mean_squared_error\n",
    "data1 = np.genfromtxt(\"paper test1.csv\", delimiter=\",\")\n",
    "data2 = np.genfromtxt(\"paper test2.csv\", delimiter=\",\")"
   ]
  },
  {
   "cell_type": "code",
   "execution_count": 2,
   "metadata": {},
   "outputs": [],
   "source": [
    "data_u1 = data1[:, :1]\n",
    "data_y1 = data1[:, 1:]\n",
    "data_train = np.c_[data_y1[:32283], data_u1[1:]]\n",
    "data_u2 = data2[:, :1]\n",
    "data_y2 = data2[:, 1:]\n",
    "data_val = np.c_[data_y2[:39051], data_u2[1:]]"
   ]
  },
  {
   "cell_type": "code",
   "execution_count": 3,
   "metadata": {},
   "outputs": [],
   "source": [
    "def create_dataset(dataset, look_back=1):\n",
    "    dataX, dataY = [], []\n",
    "    for i in range(len(dataset)-look_back-1):\n",
    "        xset = dataset[i:(i+look_back)]\n",
    "        dataY.append(dataset[i + look_back, 0])      \n",
    "        dataX.append(xset)\n",
    "    return np.array(dataX), np.array(dataY)"
   ]
  },
  {
   "cell_type": "code",
   "execution_count": 4,
   "metadata": {},
   "outputs": [],
   "source": [
    "trainX, trainY = create_dataset(data_train, 1)\n",
    "valX, valY = create_dataset(data_val, 1)"
   ]
  },
  {
   "cell_type": "code",
   "execution_count": 5,
   "metadata": {},
   "outputs": [],
   "source": [
    "from keras import initializers\n",
    "model = Sequential()\n",
    "model.add(LSTM(100, activation='relu', input_shape=(1, 2)))\n",
    "model.add(Dense(1))   \n",
    "model.compile(loss=\"mean_squared_error\", optimizer=\"adam\")"
   ]
  },
  {
   "cell_type": "code",
   "execution_count": 6,
   "metadata": {},
   "outputs": [
    {
     "name": "stdout",
     "output_type": "stream",
     "text": [
      "Train on 32281 samples, validate on 39049 samples\n",
      "Epoch 1/100\n",
      "32281/32281 [==============================] - 1s 31us/step - loss: 1622367.3202 - val_loss: 3524.5968\n",
      "Epoch 2/100\n",
      "32281/32281 [==============================] - 1s 23us/step - loss: 196.1412 - val_loss: 4.2940\n",
      "Epoch 3/100\n",
      "32281/32281 [==============================] - 1s 23us/step - loss: 3.3022 - val_loss: 4.2908\n",
      "Epoch 4/100\n",
      "32281/32281 [==============================] - 1s 23us/step - loss: 3.2974 - val_loss: 4.2797\n",
      "Epoch 5/100\n",
      "32281/32281 [==============================] - 1s 23us/step - loss: 3.2908 - val_loss: 4.2789\n",
      "Epoch 6/100\n",
      "32281/32281 [==============================] - 1s 23us/step - loss: 3.2825 - val_loss: 4.2591\n",
      "Epoch 7/100\n",
      "32281/32281 [==============================] - 1s 23us/step - loss: 3.2739 - val_loss: 4.2465\n",
      "Epoch 8/100\n",
      "32281/32281 [==============================] - 1s 23us/step - loss: 3.2621 - val_loss: 4.2327\n",
      "Epoch 9/100\n",
      "32281/32281 [==============================] - 1s 23us/step - loss: 3.2508 - val_loss: 4.2157\n",
      "Epoch 10/100\n",
      "32281/32281 [==============================] - 1s 23us/step - loss: 3.2360 - val_loss: 4.1915\n",
      "Epoch 11/100\n",
      "32281/32281 [==============================] - 1s 23us/step - loss: 3.2207 - val_loss: 4.1709\n",
      "Epoch 12/100\n",
      "32281/32281 [==============================] - 1s 23us/step - loss: 3.2005 - val_loss: 4.1462\n",
      "Epoch 13/100\n",
      "32281/32281 [==============================] - 1s 23us/step - loss: 3.1807 - val_loss: 4.1126\n",
      "Epoch 14/100\n",
      "32281/32281 [==============================] - 1s 23us/step - loss: 3.1559 - val_loss: 4.0773\n",
      "Epoch 15/100\n",
      "32281/32281 [==============================] - 1s 23us/step - loss: 3.1287 - val_loss: 4.0473\n",
      "Epoch 16/100\n",
      "32281/32281 [==============================] - 1s 23us/step - loss: 3.0996 - val_loss: 4.0044\n",
      "Epoch 17/100\n",
      "32281/32281 [==============================] - 1s 22us/step - loss: 3.0647 - val_loss: 3.9523\n",
      "Epoch 18/100\n",
      "32281/32281 [==============================] - 1s 23us/step - loss: 3.0262 - val_loss: 3.9069\n",
      "Epoch 19/100\n",
      "32281/32281 [==============================] - 1s 23us/step - loss: 2.9825 - val_loss: 3.8319\n",
      "Epoch 20/100\n",
      "32281/32281 [==============================] - 1s 23us/step - loss: 2.9332 - val_loss: 3.7660\n",
      "Epoch 21/100\n",
      "32281/32281 [==============================] - 1s 23us/step - loss: 2.8799 - val_loss: 3.7052\n",
      "Epoch 22/100\n",
      "32281/32281 [==============================] - 1s 23us/step - loss: 2.8228 - val_loss: 3.6050\n",
      "Epoch 23/100\n",
      "32281/32281 [==============================] - 1s 23us/step - loss: 2.7543 - val_loss: 3.5149\n",
      "Epoch 24/100\n",
      "32281/32281 [==============================] - 1s 23us/step - loss: 2.6787 - val_loss: 3.4184\n",
      "Epoch 25/100\n",
      "32281/32281 [==============================] - 1s 23us/step - loss: 2.6055 - val_loss: 3.2997\n",
      "Epoch 26/100\n",
      "32281/32281 [==============================] - 1s 23us/step - loss: 2.5190 - val_loss: 3.2241\n",
      "Epoch 27/100\n",
      "32281/32281 [==============================] - 1s 23us/step - loss: 2.4226 - val_loss: 3.0460\n",
      "Epoch 28/100\n",
      "32281/32281 [==============================] - 1s 23us/step - loss: 2.3172 - val_loss: 2.9239\n",
      "Epoch 29/100\n",
      "32281/32281 [==============================] - 1s 23us/step - loss: 2.2169 - val_loss: 2.7569\n",
      "Epoch 30/100\n",
      "32281/32281 [==============================] - 1s 23us/step - loss: 2.0924 - val_loss: 2.6144\n",
      "Epoch 31/100\n",
      "32281/32281 [==============================] - 1s 23us/step - loss: 1.9705 - val_loss: 2.4471\n",
      "Epoch 32/100\n",
      "32281/32281 [==============================] - 1s 23us/step - loss: 1.8464 - val_loss: 2.2692\n",
      "Epoch 33/100\n",
      "32281/32281 [==============================] - 1s 23us/step - loss: 1.7038 - val_loss: 2.0611\n",
      "Epoch 34/100\n",
      "32281/32281 [==============================] - 1s 22us/step - loss: 1.5707 - val_loss: 1.8754\n",
      "Epoch 35/100\n",
      "32281/32281 [==============================] - 1s 23us/step - loss: 1.4481 - val_loss: 1.7594\n",
      "Epoch 36/100\n",
      "32281/32281 [==============================] - 1s 23us/step - loss: 1.2953 - val_loss: 1.5069\n",
      "Epoch 37/100\n",
      "32281/32281 [==============================] - 1s 23us/step - loss: 1.1516 - val_loss: 1.3974\n",
      "Epoch 38/100\n",
      "32281/32281 [==============================] - 1s 23us/step - loss: 1.0289 - val_loss: 1.1734\n",
      "Epoch 39/100\n",
      "32281/32281 [==============================] - 1s 23us/step - loss: 0.9145 - val_loss: 1.0148\n",
      "Epoch 40/100\n",
      "32281/32281 [==============================] - 1s 23us/step - loss: 0.7873 - val_loss: 0.8986\n",
      "Epoch 41/100\n",
      "32281/32281 [==============================] - 1s 23us/step - loss: 0.6893 - val_loss: 0.7688\n",
      "Epoch 42/100\n",
      "32281/32281 [==============================] - 1s 23us/step - loss: 0.6108 - val_loss: 0.7809\n",
      "Epoch 43/100\n",
      "32281/32281 [==============================] - 1s 23us/step - loss: 0.5443 - val_loss: 0.6471\n",
      "Epoch 44/100\n",
      "32281/32281 [==============================] - 1s 23us/step - loss: 0.4968 - val_loss: 0.6418\n",
      "Epoch 45/100\n",
      "32281/32281 [==============================] - 1s 23us/step - loss: 0.4449 - val_loss: 0.5214\n",
      "Epoch 46/100\n",
      "32281/32281 [==============================] - 1s 23us/step - loss: 0.4221 - val_loss: 0.5170\n",
      "Epoch 47/100\n",
      "32281/32281 [==============================] - 1s 23us/step - loss: 0.4094 - val_loss: 0.4131\n",
      "Epoch 48/100\n",
      "32281/32281 [==============================] - 1s 23us/step - loss: 0.4148 - val_loss: 0.4386\n",
      "Epoch 49/100\n",
      "32281/32281 [==============================] - 1s 23us/step - loss: 0.4396 - val_loss: 0.5990\n",
      "Epoch 50/100\n",
      "32281/32281 [==============================] - 1s 23us/step - loss: 0.4219 - val_loss: 0.4084\n",
      "Epoch 51/100\n",
      "32281/32281 [==============================] - 1s 23us/step - loss: 0.3984 - val_loss: 0.4164\n",
      "Epoch 52/100\n",
      "32281/32281 [==============================] - 1s 23us/step - loss: 0.4491 - val_loss: 0.3875\n",
      "Epoch 53/100\n",
      "32281/32281 [==============================] - 1s 23us/step - loss: 0.4970 - val_loss: 0.7388\n",
      "Epoch 54/100\n",
      "32281/32281 [==============================] - 1s 23us/step - loss: 0.5613 - val_loss: 0.3962\n",
      "Epoch 55/100\n",
      "32281/32281 [==============================] - 1s 23us/step - loss: 0.5640 - val_loss: 0.4296\n",
      "Epoch 56/100\n",
      "32281/32281 [==============================] - 1s 23us/step - loss: 0.5944 - val_loss: 0.4236\n",
      "Epoch 57/100\n",
      "32281/32281 [==============================] - 1s 23us/step - loss: 0.6430 - val_loss: 0.3883\n",
      "Epoch 58/100\n",
      "32281/32281 [==============================] - 1s 23us/step - loss: 0.6229 - val_loss: 0.6516\n",
      "Epoch 59/100\n",
      "32281/32281 [==============================] - 1s 23us/step - loss: 0.6060 - val_loss: 0.3908\n",
      "Epoch 60/100\n",
      "32281/32281 [==============================] - 1s 23us/step - loss: 0.6358 - val_loss: 0.5305\n",
      "Epoch 61/100\n",
      "32281/32281 [==============================] - 1s 23us/step - loss: 0.5498 - val_loss: 0.5265\n",
      "Epoch 62/100\n",
      "32281/32281 [==============================] - 1s 25us/step - loss: 0.6302 - val_loss: 0.5133\n",
      "Epoch 63/100\n",
      "32281/32281 [==============================] - 1s 25us/step - loss: 0.6319 - val_loss: 0.6155\n",
      "Epoch 64/100\n",
      "32281/32281 [==============================] - 1s 23us/step - loss: 0.5402 - val_loss: 0.6503\n",
      "Epoch 65/100\n",
      "32281/32281 [==============================] - 1s 24us/step - loss: 0.5389 - val_loss: 0.4075\n",
      "Epoch 66/100\n",
      "32281/32281 [==============================] - 1s 24us/step - loss: 0.6367 - val_loss: 0.4432\n",
      "Epoch 67/100\n",
      "32281/32281 [==============================] - 1s 24us/step - loss: 0.5982 - val_loss: 0.9688\n",
      "Epoch 68/100\n",
      "32281/32281 [==============================] - 1s 23us/step - loss: 0.5791 - val_loss: 1.4878\n",
      "Epoch 69/100\n",
      "32281/32281 [==============================] - 1s 23us/step - loss: 0.6193 - val_loss: 0.9826\n",
      "Epoch 70/100\n",
      "32281/32281 [==============================] - 1s 23us/step - loss: 0.6554 - val_loss: 1.1865\n",
      "Epoch 71/100\n",
      "32281/32281 [==============================] - 1s 23us/step - loss: 0.5791 - val_loss: 0.3892\n",
      "Epoch 72/100\n",
      "32281/32281 [==============================] - 1s 23us/step - loss: 0.5689 - val_loss: 0.3897\n",
      "Epoch 73/100\n",
      "32281/32281 [==============================] - 1s 23us/step - loss: 0.7363 - val_loss: 0.4988\n",
      "Epoch 74/100\n",
      "32281/32281 [==============================] - 1s 23us/step - loss: 0.5667 - val_loss: 0.4716\n",
      "Epoch 75/100\n",
      "32281/32281 [==============================] - 1s 22us/step - loss: 0.5788 - val_loss: 1.0716\n",
      "Epoch 76/100\n",
      "32281/32281 [==============================] - 1s 23us/step - loss: 0.6330 - val_loss: 0.7502\n",
      "Epoch 77/100\n"
     ]
    },
    {
     "name": "stdout",
     "output_type": "stream",
     "text": [
      "32281/32281 [==============================] - 1s 23us/step - loss: 0.5925 - val_loss: 0.3875\n",
      "Epoch 78/100\n",
      "32281/32281 [==============================] - 1s 22us/step - loss: 0.5645 - val_loss: 0.4020\n",
      "Epoch 79/100\n",
      "32281/32281 [==============================] - 1s 22us/step - loss: 0.6759 - val_loss: 0.4128\n",
      "Epoch 80/100\n",
      "32281/32281 [==============================] - 1s 22us/step - loss: 0.5875 - val_loss: 0.8431\n",
      "Epoch 81/100\n",
      "32281/32281 [==============================] - 1s 22us/step - loss: 0.6124 - val_loss: 1.0098\n",
      "Epoch 82/100\n",
      "32281/32281 [==============================] - 1s 22us/step - loss: 0.6005 - val_loss: 1.1861\n",
      "Epoch 83/100\n",
      "32281/32281 [==============================] - 1s 22us/step - loss: 0.5855 - val_loss: 1.6498\n",
      "Epoch 84/100\n",
      "32281/32281 [==============================] - 1s 22us/step - loss: 0.6738 - val_loss: 0.4886\n",
      "Epoch 85/100\n",
      "32281/32281 [==============================] - 1s 23us/step - loss: 0.6350 - val_loss: 0.8583\n",
      "Epoch 86/100\n",
      "32281/32281 [==============================] - 1s 23us/step - loss: 0.5812 - val_loss: 0.7046\n",
      "Epoch 87/100\n",
      "32281/32281 [==============================] - 1s 22us/step - loss: 0.6735 - val_loss: 0.6039\n",
      "Epoch 88/100\n",
      "32281/32281 [==============================] - 1s 22us/step - loss: 0.5263 - val_loss: 2.1267\n",
      "Epoch 89/100\n",
      "32281/32281 [==============================] - 1s 23us/step - loss: 0.6178 - val_loss: 0.4499\n",
      "Epoch 90/100\n",
      "32281/32281 [==============================] - 1s 22us/step - loss: 0.6108 - val_loss: 0.5174\n",
      "Epoch 91/100\n",
      "32281/32281 [==============================] - 1s 22us/step - loss: 0.5706 - val_loss: 1.4315\n",
      "Epoch 92/100\n",
      "32281/32281 [==============================] - 1s 23us/step - loss: 0.5550 - val_loss: 0.3932\n",
      "Epoch 93/100\n",
      "32281/32281 [==============================] - 1s 22us/step - loss: 0.7572 - val_loss: 0.5084\n",
      "Epoch 94/100\n",
      "32281/32281 [==============================] - 1s 22us/step - loss: 0.5297 - val_loss: 0.6060\n",
      "Epoch 95/100\n",
      "32281/32281 [==============================] - 1s 22us/step - loss: 0.5736 - val_loss: 0.3871\n",
      "Epoch 96/100\n",
      "32281/32281 [==============================] - 1s 22us/step - loss: 0.7393 - val_loss: 0.5313\n",
      "Epoch 97/100\n",
      "32281/32281 [==============================] - 1s 23us/step - loss: 0.6839 - val_loss: 0.4020\n",
      "Epoch 98/100\n",
      "32281/32281 [==============================] - 1s 23us/step - loss: 0.5793 - val_loss: 0.6275\n",
      "Epoch 99/100\n",
      "32281/32281 [==============================] - 1s 23us/step - loss: 0.5755 - val_loss: 0.3886\n",
      "Epoch 100/100\n",
      "32281/32281 [==============================] - 1s 23us/step - loss: 0.6440 - val_loss: 0.3871\n"
     ]
    }
   ],
   "source": [
    "history = model.fit(trainX, trainY, epochs=100, batch_size=128, validation_data=(valX, valY))"
   ]
  },
  {
   "cell_type": "code",
   "execution_count": 7,
   "metadata": {},
   "outputs": [
    {
     "data": {
      "image/png": "[encoded data removed]",
      "text/plain": [
       "<Figure size 432x288 with 1 Axes>"
      ]
     },
     "metadata": {
      "needs_background": "light"
     },
     "output_type": "display_data"
    }
   ],
   "source": [
    "Predict = model.predict(valX)\n",
    "Y1 = valY\n",
    "Y2 = Predict\n",
    "y1 = Y1\n",
    "y2 = list(Y2[ : ,0])\n",
    "plt.plot(y1, label='actual')\n",
    "plt.plot(y2, label='preidict')\n",
    "plt.legend()\n",
    "plt.show()"
   ]
  },
  {
   "cell_type": "code",
   "execution_count": 8,
   "metadata": {},
   "outputs": [],
   "source": [
    "valXX = valX[: ,: ,1]"
   ]
  },
  {
   "cell_type": "code",
   "execution_count": 9,
   "metadata": {},
   "outputs": [],
   "source": [
    "a = []\n",
    "x = 2000.386649\n",
    "for i in range(32281):\n",
    "    n1 = np.append(x, valXX[i])\n",
    "    n2 = np.reshape(n1, (1,1,n1.shape[0]))\n",
    "    n3 = model.predict(n2)\n",
    "    n4 = n3[:,0][0]\n",
    "    x = n4\n",
    "    a.append(n4)"
   ]
  },
  {
   "cell_type": "code",
   "execution_count": 11,
   "metadata": {},
   "outputs": [
    {
     "data": {
      "image/png": "[encoded data removed]",
      "text/plain": [
       "<Figure size 432x288 with 1 Axes>"
      ]
     },
     "metadata": {
      "needs_background": "light"
     },
     "output_type": "display_data"
    }
   ],
   "source": [
    "plt.plot(valY, label='actual')\n",
    "plt.plot(a, label='preidict')\n",
    "plt.legend()\n",
    "plt.show()"
   ]
  },
  {
   "cell_type": "code",
   "execution_count": null,
   "metadata": {},
   "outputs": [],
   "source": []
  }
 ],
 "metadata": {
  "kernelspec": {
   "display_name": "Python 3",
   "language": "python",
   "name": "python3"
  },
  "language_info": {
   "codemirror_mode": {
    "name": "ipython",
    "version": 3
   },
   "file_extension": ".py",
   "mimetype": "text/x-python",
   "name": "python",
   "nbconvert_exporter": "python",
   "pygments_lexer": "ipython3",
   "version": "3.7.3"
  }
 },
 "nbformat": 4,
 "nbformat_minor": 2
}
